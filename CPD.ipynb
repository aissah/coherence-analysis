{
 "cells": [
  {
   "cell_type": "markdown",
   "metadata": {},
   "source": [
    "# Canonical Polyadic Decomposition\n",
    "\n",
    "This notebook is to implement CPD on some frequency domain data, and assess the compress-decompress times when used for compression."
   ]
  },
  {
   "cell_type": "code",
   "execution_count": 1,
   "metadata": {},
   "outputs": [],
   "source": [
    "import matplotlib.pyplot as plt\n",
    "import numpy as np\n",
    "import TensorFox as tfx\n",
    "import h5py"
   ]
  },
  {
   "cell_type": "code",
   "execution_count": 2,
   "metadata": {},
   "outputs": [],
   "source": [
    "def loadBradyHShdf5(file,normalize='yes'):\n",
    "    '''\n",
    "\n",
    "    Parameters\n",
    "    ----------\n",
    "    file : str\n",
    "        path to brady hotspring h5py data file\n",
    "    normalize : str, optional\n",
    "        \"yes\" or \"no\". Indicates whether or not to remove laser drift and \n",
    "        normalize. The default is 'yes'.\n",
    "\n",
    "    Returns\n",
    "    -------\n",
    "    data : np array\n",
    "        channel by samples numpy array of data\n",
    "    timestamp_arr : numpy array\n",
    "        array of the timestamps corresponding to the various samples in the \n",
    "        data. Timestamps for brady hotspring data are with respect to the \n",
    "        beginning time of the survey.\n",
    "\n",
    "    '''\n",
    "    \n",
    "    with h5py.File(file,'r') as open_file: \n",
    "        dataset = open_file['das']\n",
    "        time=open_file['t']\n",
    "        data=np.array(dataset)\n",
    "        timestamp_arr=np.array(time)\n",
    "    data = np.transpose(data)\n",
    "    if normalize=='yes':\n",
    "        nSamples=np.shape(data)[1]\n",
    "        # get rid of laser drift\n",
    "        med = np.median(data,axis=0)\n",
    "        for i in range(nSamples):\n",
    "          data[:,i] = data[:,i] - med[i]\n",
    "          \n",
    "        max_of_rows = abs(data[:,:]).sum(axis=1)\n",
    "        data = data/ max_of_rows[:, np.newaxis]\n",
    "    return data, timestamp_arr\n",
    "\n",
    "\n",
    "def windowed_spectra(data: np.array, subwindow_len: int,overlap,freq=None,sample_interval=1):\n",
    "    \"\"\"\n",
    "    Calculate the frequency domain representation of data in windows.\n",
    "    \"\"\"\n",
    "\n",
    "    win_start = 0\n",
    "    window_samples = int(subwindow_len / sample_interval)\n",
    "    total_samples = data.shape[-1]\n",
    "    overlap = int(overlap/sample_interval)\n",
    "    intervals = np.arange(window_samples, total_samples+1, window_samples, dtype=int) # break time series into windowed intervals\n",
    "\n",
    "    win_end = intervals[0]\n",
    "\n",
    "    absolute_spectra = np.fft.rfft(data[:,win_start:win_end])\n",
    "    win_spectra = absolute_spectra[np.newaxis]\n",
    "\n",
    "    while win_end < total_samples:\n",
    "        win_start = win_end - overlap\n",
    "        win_end = win_start + window_samples\n",
    "        absolute_spectra = np.fft.rfft(data[:,win_start:win_end])\n",
    "        win_spectra = np.append(\n",
    "            win_spectra, absolute_spectra[np.newaxis], axis=0\n",
    "        )\n",
    "        # win_start = win_end\n",
    "        \n",
    "    \n",
    "    frequencies = np.fft.rfftfreq(window_samples, sample_interval)\n",
    "\n",
    "    return win_spectra, frequencies"
   ]
  },
  {
   "cell_type": "code",
   "execution_count": 3,
   "metadata": {},
   "outputs": [],
   "source": [
    "samples_per_sec=1000\n",
    "fsize=15\n",
    "start_ch = 1000\n",
    "nchannels = 3000"
   ]
  },
  {
   "cell_type": "code",
   "execution_count": 4,
   "metadata": {},
   "outputs": [],
   "source": [
    "file = r\"D:\\CSM\\Mines_Research\\Test_data\\Brady Hotspring\\PoroTomo_iDAS16043_160312000018.h5\"\n",
    "data_noise,_= loadBradyHShdf5(file,normalize='no')\n",
    "\n",
    "file = r\"D:\\CSM\\Mines_Research\\Test_data\\Brady Hotspring\\PoroTomo_iDAS16043_160312000048.h5\"\n",
    "data_noise2,_= loadBradyHShdf5(file,normalize='no')\n",
    "\n",
    "data_noise = np.append(data_noise,data_noise2,axis=1)"
   ]
  },
  {
   "cell_type": "code",
   "execution_count": 5,
   "metadata": {},
   "outputs": [],
   "source": [
    "win_spectra, frequencies = windowed_spectra(data_noise[start_ch:nchannels+start_ch:int(nchannels/200)], 5, 2.5, sample_interval=0.001)"
   ]
  },
  {
   "cell_type": "code",
   "execution_count": 6,
   "metadata": {},
   "outputs": [
    {
     "data": {
      "text/plain": [
       "(23, 23, 23)"
      ]
     },
     "execution_count": 6,
     "metadata": {},
     "output_type": "execute_result"
    }
   ],
   "source": [
    "win_spectra[:,:23,:23].shape"
   ]
  },
  {
   "cell_type": "code",
   "execution_count": 7,
   "metadata": {},
   "outputs": [
    {
     "name": "stdout",
     "output_type": "stream",
     "text": [
      "T is a tensor of dimensions (23, 200, 2501)\n",
      "\n",
      "|T| = 2619.0251570884434\n",
      "\n",
      "max(T) = 146.20243010247808\n",
      "\n",
      "min(T) = -199.33211946205304\n",
      "\n",
      "mean(T) = 0.00039390169286237803\n",
      "\n",
      "mean(|T|) = 0.2231897232779525\n",
      "\n",
      "var(T) = 0.546408099892744\n",
      "\n"
     ]
    },
    {
     "data": {
      "image/png": "[encoded data removed]",
      "text/plain": [
       "<Figure size 640x480 with 1 Axes>"
      ]
     },
     "metadata": {},
     "output_type": "display_data"
    },
    {
     "name": "stdout",
     "output_type": "stream",
     "text": [
      "\n",
      "1 <= rank(T) <= 500200\n",
      "\n",
      "Generic rank of the tensor space of T = 4227\n",
      "\n",
      "Computing multilinear rank...\n",
      "------------------------------------\n",
      "    Compressing unfolding mode 1\n",
      "    Compressing unfolding mode 2\n",
      "    Compressing unfolding mode 3\n",
      "multirank(T) = (23, 200, 2473)\n",
      "|T - (U_1, ..., U_3)*S|/|T| = 0.000574578908097914\n",
      "\n",
      "Computing rank...\n",
      "Start searching for rank\n",
      "Stops at R = 4600  or less\n",
      "-----------------------------\n",
      "Testing R = 283"
     ]
    }
   ],
   "source": [
    "# Create a 2 x 2 x 2 tensor.\n",
    "m = 5\n",
    "T = np.zeros((m, m, m))\n",
    "s = 0.0\n",
    "\n",
    "for k in range(m):\n",
    "    for i in range(m):\n",
    "        for j in range(m):\n",
    "            T[i,j,k] = s\n",
    "            s += 1\n",
    "\n",
    "# Let's see some information about T.\n",
    "# tfx.infotens(T)\n",
    "tfx.infotens(win_spectra.real)"
   ]
  },
  {
   "cell_type": "code",
   "execution_count": 22,
   "metadata": {},
   "outputs": [],
   "source": [
    "rank = 17\n",
    "# factors, output = tfx.cpd(win_spectra[:6,:6,:6].real, rank)\n",
    "factors, output = tfx.cpd(win_spectra.real, rank)"
   ]
  },
  {
   "cell_type": "code",
   "execution_count": 29,
   "metadata": {},
   "outputs": [
    {
     "name": "stdout",
     "output_type": "stream",
     "text": [
      "X.shape = (6, 17)\n",
      "Y.shape = (6, 17)\n",
      "Z.shape = (6, 17)\n"
     ]
    }
   ],
   "source": [
    "X = factors[0]\n",
    "Y = factors[1]\n",
    "Z = factors[2]\n",
    "\n",
    "X.shape\n",
    "print(f\"{X.shape = }\")\n",
    "print(f\"{Y.shape = }\")\n",
    "print(f\"{Z.shape = }\")"
   ]
  },
  {
   "cell_type": "code",
   "execution_count": 38,
   "metadata": {},
   "outputs": [
    {
     "data": {
      "text/plain": [
       "<matplotlib.colorbar.Colorbar at 0x1f1fb30b070>"
      ]
     },
     "execution_count": 38,
     "metadata": {},
     "output_type": "execute_result"
    },
    {
     "data": {
      "image/png": "[encoded data removed]",
      "text/plain": [
       "<Figure size 1360x480 with 2 Axes>"
      ]
     },
     "metadata": {},
     "output_type": "display_data"
    }
   ],
   "source": [
    "# plt.subplot(3,1,1)\n",
    "plt.matshow(X)\n",
    "plt.colorbar()"
   ]
  }
 ],
 "metadata": {
  "kernelspec": {
   "display_name": "base",
   "language": "python",
   "name": "python3"
  },
  "language_info": {
   "codemirror_mode": {
    "name": "ipython",
    "version": 3
   },
   "file_extension": ".py",
   "mimetype": "text/x-python",
   "name": "python",
   "nbconvert_exporter": "python",
   "pygments_lexer": "ipython3",
   "version": "3.10.9"
  }
 },
 "nbformat": 4,
 "nbformat_minor": 2
}
